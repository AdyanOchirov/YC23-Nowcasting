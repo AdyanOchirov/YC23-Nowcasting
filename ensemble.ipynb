{
 "cells": [
  {
   "cell_type": "code",
   "execution_count": null,
   "id": "98910183",
   "metadata": {},
   "outputs": [],
   "source": [
    "import h5py\n",
    "import numpy as np\n",
    "import torch\n",
    "import os"
   ]
  },
  {
   "cell_type": "code",
   "execution_count": null,
   "id": "2c28f29d",
   "metadata": {},
   "outputs": [],
   "source": [
    "folder = \"individual_predictions\"\n",
    "last = 5\n",
    "files_3=sorted([x for x in os.listdir(folder) if ('FINAL-THREE' in x)])[-last:]\n",
    "files_5=sorted([x for x in os.listdir(folder) if ('FINAL-FIVE' in x)])[-last:]\n",
    "files_6=sorted([x for x in os.listdir(folder) if ('FINAL-SIX' in x)])[-last:]\n",
    "files_7=sorted([x for x in os.listdir(folder) if ('FINAL-SEVEN' in x)])[-last:]\n",
    "files_8=sorted([x for x in os.listdir(folder) if ('FINAL-EIGHT' in x)])[-last:]\n",
    "files_10=sorted([x for x in os.listdir(folder) if ('FINAL-TEN' in x)])[-last:]\n",
    "files_11=sorted([ x  for x in os.listdir(folder) if ('FINAL-ELEVEN' in  x)])[-last:]\n",
    "files_12=sorted([ x  for x in os.listdir(folder) if ('FINAL-TWELVE' in  x)])[-last:]"
   ]
  },
  {
   "cell_type": "code",
   "execution_count": null,
   "id": "b15f08b0",
   "metadata": {},
   "outputs": [],
   "source": [
    "files_3=[os.path.join(folder,s) for s in files_3]\n",
    "files_5=[os.path.join(folder,s) for s in files_5]\n",
    "files_6=[os.path.join(folder,s) for s in files_6]\n",
    "files_7=[os.path.join(folder,s) for s in files_7]\n",
    "files_8=[os.path.join(folder,s) for s in files_8]\n",
    "files_10=[os.path.join(folder,s) for s in files_10]\n",
    "files_11=[os.path.join(folder,s) for s in files_11]\n",
    "files_12=[os.path.join(folder,s) for s in files_12]"
   ]
  },
  {
   "cell_type": "code",
   "execution_count": null,
   "id": "982b2931",
   "metadata": {},
   "outputs": [],
   "source": [
    "def ens_from_files(files):\n",
    "    ens=dict()\n",
    "    for file in files:\n",
    "        with h5py.File(file) as d:\n",
    "            for timestamp in d.keys():\n",
    "                if timestamp not in ens:\n",
    "                    ens[timestamp]=0\n",
    "                ens[timestamp]+=np.array(d[timestamp]['intensity']).astype(np.float64)\n",
    "    for key in ens.keys():\n",
    "        ens[key]=ens[key]/len(files)\n",
    "    return ens"
   ]
  },
  {
   "cell_type": "code",
   "execution_count": null,
   "id": "73f0c306",
   "metadata": {},
   "outputs": [],
   "source": [
    "ens_3=ens_from_files(files_3)\n",
    "ens_5=ens_from_files(files_5)\n",
    "ens_6=ens_from_files(files_6)\n",
    "ens_7=ens_from_files(files_7)\n",
    "ens_8=ens_from_files(files_8)\n",
    "ens_10=ens_from_files(files_10)\n",
    "ens_11=ens_from_files(files_11)\n",
    "ens_12=ens_from_files(files_12)"
   ]
  },
  {
   "cell_type": "code",
   "execution_count": null,
   "id": "6cbf36d8",
   "metadata": {},
   "outputs": [],
   "source": [
    "def average_ens(ens_list):\n",
    "    final=dict()\n",
    "    for key in ens_list[0].keys():\n",
    "        final[key]=0\n",
    "    for ens in ens_list:\n",
    "        for key in final.keys():\n",
    "            final[key]+=ens[key]\n",
    "    for key in final.keys():\n",
    "        final[key]=final[key]/len(ens_list)\n",
    "    return final"
   ]
  },
  {
   "cell_type": "code",
   "execution_count": null,
   "id": "aeafdc05",
   "metadata": {},
   "outputs": [],
   "source": [
    "ans1=average_ens([ens_3,ens_6,ens_7,ens_8,ens_10])\n",
    "ans2=average_ens([ens_5,ens_11,ans1])\n",
    "final = average_ens([ens_12,ans2])"
   ]
  },
  {
   "cell_type": "code",
   "execution_count": null,
   "id": "c4a56206",
   "metadata": {},
   "outputs": [],
   "source": [
    "output_file = \"final_output.hdf5\"\n",
    "with h5py.File(output_file, mode='a') as f_out:\n",
    "    for item in final.items():\n",
    "        f_out.create_group(item[0])\n",
    "        f_out[item[0]].create_dataset(\n",
    "            'intensity',\n",
    "            data=item[1].astype(np.float32)\n",
    "        )"
   ]
  }
 ],
 "metadata": {
  "kernelspec": {
   "display_name": "Python 3 (ipykernel)",
   "language": "python",
   "name": "python3"
  },
  "language_info": {
   "codemirror_mode": {
    "name": "ipython",
    "version": 3
   },
   "file_extension": ".py",
   "mimetype": "text/x-python",
   "name": "python",
   "nbconvert_exporter": "python",
   "pygments_lexer": "ipython3",
   "version": "3.9.13"
  }
 },
 "nbformat": 4,
 "nbformat_minor": 5
}
